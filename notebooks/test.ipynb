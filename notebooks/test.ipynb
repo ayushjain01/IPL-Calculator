{
 "cells": [
  {
   "cell_type": "code",
   "execution_count": 1,
   "metadata": {},
   "outputs": [
    {
     "name": "stdout",
     "output_type": "stream",
     "text": [
      "<class 'pandas.core.frame.DataFrame'>\n",
      "RangeIndex: 130 entries, 0 to 129\n",
      "Data columns (total 14 columns):\n",
      " #   Column         Non-Null Count  Dtype  \n",
      "---  ------         --------------  -----  \n",
      " 0   match          130 non-null    object \n",
      " 1   venue          130 non-null    object \n",
      " 2   date           130 non-null    object \n",
      " 3   time           130 non-null    object \n",
      " 4   team1          130 non-null    object \n",
      " 5   team1_score    129 non-null    float64\n",
      " 6   team1_wickets  129 non-null    float64\n",
      " 7   team1_overs    129 non-null    float64\n",
      " 8   team2          130 non-null    object \n",
      " 9   team2_score    129 non-null    float64\n",
      " 10  team2_wickets  129 non-null    float64\n",
      " 11  team2_overs    129 non-null    float64\n",
      " 12  winner         130 non-null    object \n",
      " 13  year           130 non-null    int64  \n",
      "dtypes: float64(6), int64(1), object(7)\n",
      "memory usage: 14.3+ KB\n",
      "None\n"
     ]
    }
   ],
   "source": [
    "import pandas as pd\n",
    "\n",
    "# Read data from CSV file into a pandas DataFrame\n",
    "df = pd.read_csv('ipl_matches.csv')\n",
    "\n",
    "# Print the first five rows of the DataFrame\n",
    "print(df.info())\n"
   ]
  },
  {
   "cell_type": "code",
   "execution_count": 2,
   "metadata": {},
   "outputs": [
    {
     "name": "stdout",
     "output_type": "stream",
     "text": [
      "<class 'pandas.core.frame.DataFrame'>\n",
      "RangeIndex: 14 entries, 0 to 13\n",
      "Data columns (total 7 columns):\n",
      " #   Column  Non-Null Count  Dtype \n",
      "---  ------  --------------  ----- \n",
      " 0   match   14 non-null     object\n",
      " 1   venue   14 non-null     object\n",
      " 2   date    14 non-null     object\n",
      " 3   time    14 non-null     object\n",
      " 4   team1   14 non-null     object\n",
      " 5   team2   14 non-null     object\n",
      " 6   year    14 non-null     int64 \n",
      "dtypes: int64(1), object(6)\n",
      "memory usage: 916.0+ bytes\n",
      "None\n"
     ]
    }
   ],
   "source": [
    "df = pd.read_csv('ipl_fixtures.csv')\n",
    "\n",
    "# Print the first five rows of the DataFrame\n",
    "print(df.info())"
   ]
  }
 ],
 "metadata": {
  "kernelspec": {
   "display_name": "Python 3",
   "language": "python",
   "name": "python3"
  },
  "language_info": {
   "codemirror_mode": {
    "name": "ipython",
    "version": 3
   },
   "file_extension": ".py",
   "mimetype": "text/x-python",
   "name": "python",
   "nbconvert_exporter": "python",
   "pygments_lexer": "ipython3",
   "version": "3.11.2"
  },
  "orig_nbformat": 4
 },
 "nbformat": 4,
 "nbformat_minor": 2
}
